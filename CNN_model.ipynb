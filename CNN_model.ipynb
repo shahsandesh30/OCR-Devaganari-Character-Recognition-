{
 "cells": [
  {
   "cell_type": "code",
   "execution_count": 1,
   "metadata": {},
   "outputs": [
    {
     "name": "stderr",
     "output_type": "stream",
     "text": [
      "Using TensorFlow backend.\n",
      "/home/sandesh/anaconda3/lib/python3.7/site-packages/tensorflow/python/framework/dtypes.py:526: FutureWarning: Passing (type, 1) or '1type' as a synonym of type is deprecated; in a future version of numpy, it will be understood as (type, (1,)) / '(1,)type'.\n",
      "  _np_qint8 = np.dtype([(\"qint8\", np.int8, 1)])\n",
      "/home/sandesh/anaconda3/lib/python3.7/site-packages/tensorflow/python/framework/dtypes.py:527: FutureWarning: Passing (type, 1) or '1type' as a synonym of type is deprecated; in a future version of numpy, it will be understood as (type, (1,)) / '(1,)type'.\n",
      "  _np_quint8 = np.dtype([(\"quint8\", np.uint8, 1)])\n",
      "/home/sandesh/anaconda3/lib/python3.7/site-packages/tensorflow/python/framework/dtypes.py:528: FutureWarning: Passing (type, 1) or '1type' as a synonym of type is deprecated; in a future version of numpy, it will be understood as (type, (1,)) / '(1,)type'.\n",
      "  _np_qint16 = np.dtype([(\"qint16\", np.int16, 1)])\n",
      "/home/sandesh/anaconda3/lib/python3.7/site-packages/tensorflow/python/framework/dtypes.py:529: FutureWarning: Passing (type, 1) or '1type' as a synonym of type is deprecated; in a future version of numpy, it will be understood as (type, (1,)) / '(1,)type'.\n",
      "  _np_quint16 = np.dtype([(\"quint16\", np.uint16, 1)])\n",
      "/home/sandesh/anaconda3/lib/python3.7/site-packages/tensorflow/python/framework/dtypes.py:530: FutureWarning: Passing (type, 1) or '1type' as a synonym of type is deprecated; in a future version of numpy, it will be understood as (type, (1,)) / '(1,)type'.\n",
      "  _np_qint32 = np.dtype([(\"qint32\", np.int32, 1)])\n",
      "/home/sandesh/anaconda3/lib/python3.7/site-packages/tensorflow/python/framework/dtypes.py:535: FutureWarning: Passing (type, 1) or '1type' as a synonym of type is deprecated; in a future version of numpy, it will be understood as (type, (1,)) / '(1,)type'.\n",
      "  np_resource = np.dtype([(\"resource\", np.ubyte, 1)])\n"
     ]
    }
   ],
   "source": [
    "import os \n",
    "import numpy as np\n",
    "import keras\n",
    "from keras.preprocessing.image import ImageDataGenerator\n",
    "from keras.layers import Conv2D, MaxPooling2D, Dropout, Activation\n",
    "from keras.layers import Flatten, Dense, Activation\n",
    "from keras.optimizers import SGD, Adam\n",
    "from keras.models import Sequential\n",
    "from keras.callbacks import EarlyStopping, ModelCheckpoint\n",
    "import matplotlib.pyplot as plt\n",
    "import time"
   ]
  },
  {
   "cell_type": "code",
   "execution_count": 2,
   "metadata": {},
   "outputs": [
    {
     "name": "stdout",
     "output_type": "stream",
     "text": [
      "digit_6\n"
     ]
    },
    {
     "data": {
      "text/plain": [
       "46"
      ]
     },
     "execution_count": 2,
     "metadata": {},
     "output_type": "execute_result"
    }
   ],
   "source": [
    "current_dir = os.getcwd()\n",
    "train_dir = os.path.join(current_dir, 'DevanagariHandwrittenCharacterDataset/Train')\n",
    "test_dir = os.path.join(current_dir, 'DevanagariHandwrittenCharacterDataset/Test')\n",
    "\n",
    "train_datasets = os.listdir(train_dir)\n",
    "test_datasets = os.listdir(test_dir)\n",
    "print(test_datasets[24])\n",
    "len(train_datasets)"
   ]
  },
  {
   "cell_type": "code",
   "execution_count": 3,
   "metadata": {},
   "outputs": [
    {
     "name": "stdout",
     "output_type": "stream",
     "text": [
      "78200\n",
      "13800\n"
     ]
    }
   ],
   "source": [
    "train_dataset_count = 0\n",
    "for i in train_datasets:\n",
    "    data_path = os.path.join(train_dir, str(i))\n",
    "    train_dataset_count += len(os.listdir(data_path))   \n",
    "print(train_dataset_count)\n",
    "\n",
    "test_dataset_count = 0\n",
    "for i in test_datasets:\n",
    "    data_path = os.path.join(test_dir, str(i))\n",
    "    test_dataset_count += len(os.listdir(data_path))   \n",
    "print(test_dataset_count)"
   ]
  },
  {
   "cell_type": "code",
   "execution_count": 4,
   "metadata": {},
   "outputs": [],
   "source": [
    "batch_size = 32\n",
    "img_rows, img_cols = 32,32\n",
    "epochs = 100"
   ]
  },
  {
   "cell_type": "code",
   "execution_count": 5,
   "metadata": {},
   "outputs": [
    {
     "name": "stdout",
     "output_type": "stream",
     "text": [
      "Found 78200 images belonging to 46 classes.\n",
      "Found 13800 images belonging to 46 classes.\n"
     ]
    }
   ],
   "source": [
    "train_datagen = ImageDataGenerator(\n",
    "    rescale=1./255,\n",
    "    zoom_range=0.2,\n",
    "    fill_mode='nearest'\n",
    ")\n",
    "\n",
    "train_generator = train_datagen.flow_from_directory(\n",
    "    train_dir,\n",
    "    color_mode='grayscale',\n",
    "    target_size=(img_rows, img_cols),\n",
    "    batch_size=batch_size,\n",
    "    class_mode='categorical'\n",
    ")\n",
    "\n",
    "test_datagen = ImageDataGenerator(rescale=1./255)\n",
    "\n",
    "test_generator = train_datagen.flow_from_directory(\n",
    "    test_dir,\n",
    "    color_mode='grayscale',\n",
    "    target_size=(img_rows, img_cols),\n",
    "    batch_size=batch_size,\n",
    "    class_mode='categorical'\n",
    ")\n",
    "\n"
   ]
  },
  {
   "cell_type": "code",
   "execution_count": null,
   "metadata": {},
   "outputs": [],
   "source": []
  },
  {
   "cell_type": "code",
   "execution_count": 7,
   "metadata": {},
   "outputs": [
    {
     "name": "stdout",
     "output_type": "stream",
     "text": [
      "WARNING:tensorflow:From /home/sandesh/anaconda3/lib/python3.7/site-packages/tensorflow/python/ops/resource_variable_ops.py:435: colocate_with (from tensorflow.python.framework.ops) is deprecated and will be removed in a future version.\n",
      "Instructions for updating:\n",
      "Colocations handled automatically by placer.\n"
     ]
    }
   ],
   "source": [
    "model = Sequential()\n",
    "\n",
    "model.add(Conv2D(filters=32, kernel_size=(5,5),activation='relu',input_shape=(img_rows, img_cols, 1)))\n",
    "model.add(MaxPooling2D(pool_size=(2,2)))\n",
    "\n",
    "model.add(Conv2D(filters=32, kernel_size=(3,3), activation='relu'))\n",
    "model.add(MaxPooling2D(pool_size=(2,2)))\n",
    "model.add(Dropout(rate=0.25))\n",
    "\n",
    "model.add(Flatten())\n",
    "model.add(Dense(units=128, activation='relu'))\n",
    "\n",
    "model.add(Dense(units=len(train_datasets), activation='softmax'))"
   ]
  },
  {
   "cell_type": "code",
   "execution_count": 8,
   "metadata": {},
   "outputs": [
    {
     "name": "stdout",
     "output_type": "stream",
     "text": [
      "Model: \"sequential_1\"\n",
      "_________________________________________________________________\n",
      "Layer (type)                 Output Shape              Param #   \n",
      "=================================================================\n",
      "conv2d_1 (Conv2D)            (None, 28, 28, 32)        832       \n",
      "_________________________________________________________________\n",
      "max_pooling2d_1 (MaxPooling2 (None, 14, 14, 32)        0         \n",
      "_________________________________________________________________\n",
      "conv2d_2 (Conv2D)            (None, 12, 12, 32)        9248      \n",
      "_________________________________________________________________\n",
      "max_pooling2d_2 (MaxPooling2 (None, 6, 6, 32)          0         \n",
      "_________________________________________________________________\n",
      "dropout_1 (Dropout)          (None, 6, 6, 32)          0         \n",
      "_________________________________________________________________\n",
      "flatten_1 (Flatten)          (None, 1152)              0         \n",
      "_________________________________________________________________\n",
      "dense_1 (Dense)              (None, 128)               147584    \n",
      "_________________________________________________________________\n",
      "dense_2 (Dense)              (None, 46)                5934      \n",
      "=================================================================\n",
      "Total params: 163,598\n",
      "Trainable params: 163,598\n",
      "Non-trainable params: 0\n",
      "_________________________________________________________________\n"
     ]
    }
   ],
   "source": [
    "model.summary()"
   ]
  },
  {
   "cell_type": "code",
   "execution_count": 9,
   "metadata": {},
   "outputs": [],
   "source": [
    "early_stop = EarlyStopping(monitor='val_accuracy',\n",
    "                          min_delta=0,\n",
    "                           patience=10,\n",
    "                           verbose=1,\n",
    "                           mode='max',\n",
    "                           restore_best_weights=True\n",
    "                          )\n",
    "check_point = ModelCheckpoint(\n",
    "    'Handwritten_OCR.h5',\n",
    "    monitor='val_accuracy',\n",
    "    mode='max',\n",
    "    save_best_only=True,\n",
    "    verbose=1\n",
    ")\n",
    "\n",
    "callbacks=[check_point, early_stop]"
   ]
  },
  {
   "cell_type": "code",
   "execution_count": 10,
   "metadata": {},
   "outputs": [],
   "source": [
    "model.compile(loss='categorical_crossentropy',\n",
    "            metrics=['accuracy'],\n",
    "            optimizer=Adam(lr=0.001)\n",
    "             )"
   ]
  },
  {
   "cell_type": "code",
   "execution_count": 11,
   "metadata": {},
   "outputs": [
    {
     "name": "stdout",
     "output_type": "stream",
     "text": [
      "WARNING:tensorflow:From /home/sandesh/anaconda3/lib/python3.7/site-packages/tensorflow/python/ops/math_ops.py:3066: to_int32 (from tensorflow.python.ops.math_ops) is deprecated and will be removed in a future version.\n",
      "Instructions for updating:\n",
      "Use tf.cast instead.\n",
      "Epoch 1/100\n",
      "2444/2443 [==============================] - 80s 33ms/step - loss: 0.6850 - accuracy: 0.8029 - val_loss: 0.6476 - val_accuracy: 0.9209\n",
      "\n",
      "Epoch 00001: val_accuracy improved from -inf to 0.92094, saving model to Handwritten_OCR.h5\n",
      "Epoch 2/100\n",
      "2444/2443 [==============================] - 70s 29ms/step - loss: 0.2461 - accuracy: 0.9250 - val_loss: 0.0435 - val_accuracy: 0.9549\n",
      "\n",
      "Epoch 00002: val_accuracy improved from 0.92094 to 0.95493, saving model to Handwritten_OCR.h5\n",
      "Epoch 3/100\n",
      "2444/2443 [==============================] - 71s 29ms/step - loss: 0.1738 - accuracy: 0.9463 - val_loss: 0.3486 - val_accuracy: 0.9604\n",
      "\n",
      "Epoch 00003: val_accuracy improved from 0.95493 to 0.96043, saving model to Handwritten_OCR.h5\n",
      "Epoch 4/100\n",
      "2444/2443 [==============================] - 73s 30ms/step - loss: 0.1401 - accuracy: 0.9562 - val_loss: 0.0172 - val_accuracy: 0.9688\n",
      "\n",
      "Epoch 00004: val_accuracy improved from 0.96043 to 0.96884, saving model to Handwritten_OCR.h5\n",
      "Epoch 5/100\n",
      "2444/2443 [==============================] - 74s 30ms/step - loss: 0.1174 - accuracy: 0.9635 - val_loss: 0.0019 - val_accuracy: 0.9727\n",
      "\n",
      "Epoch 00005: val_accuracy improved from 0.96884 to 0.97268, saving model to Handwritten_OCR.h5\n",
      "Epoch 6/100\n",
      "2444/2443 [==============================] - 76s 31ms/step - loss: 0.1065 - accuracy: 0.9662 - val_loss: 0.0102 - val_accuracy: 0.9733\n",
      "\n",
      "Epoch 00006: val_accuracy improved from 0.97268 to 0.97333, saving model to Handwritten_OCR.h5\n",
      "Epoch 7/100\n",
      "2444/2443 [==============================] - 77s 31ms/step - loss: 0.0967 - accuracy: 0.9685 - val_loss: 0.9203 - val_accuracy: 0.9730\n",
      "\n",
      "Epoch 00007: val_accuracy did not improve from 0.97333\n",
      "Epoch 8/100\n",
      "2444/2443 [==============================] - 73s 30ms/step - loss: 0.0853 - accuracy: 0.9724 - val_loss: 0.0025 - val_accuracy: 0.9744\n",
      "\n",
      "Epoch 00008: val_accuracy improved from 0.97333 to 0.97442, saving model to Handwritten_OCR.h5\n",
      "Epoch 9/100\n",
      "2444/2443 [==============================] - 79s 32ms/step - loss: 0.0796 - accuracy: 0.9743 - val_loss: 0.0216 - val_accuracy: 0.9780\n",
      "\n",
      "Epoch 00009: val_accuracy improved from 0.97442 to 0.97797, saving model to Handwritten_OCR.h5\n",
      "Epoch 10/100\n",
      "2444/2443 [==============================] - 79s 32ms/step - loss: 0.0757 - accuracy: 0.9754 - val_loss: 0.0050 - val_accuracy: 0.9809\n",
      "\n",
      "Epoch 00010: val_accuracy improved from 0.97797 to 0.98087, saving model to Handwritten_OCR.h5\n",
      "Epoch 11/100\n",
      "2444/2443 [==============================] - 78s 32ms/step - loss: 0.0715 - accuracy: 0.9769 - val_loss: 3.3872e-04 - val_accuracy: 0.9806\n",
      "\n",
      "Epoch 00011: val_accuracy did not improve from 0.98087\n",
      "Epoch 12/100\n",
      "2444/2443 [==============================] - 82s 34ms/step - loss: 0.0684 - accuracy: 0.9775 - val_loss: 3.6054e-04 - val_accuracy: 0.9791\n",
      "\n",
      "Epoch 00012: val_accuracy did not improve from 0.98087\n",
      "Epoch 13/100\n",
      "2444/2443 [==============================] - 79s 32ms/step - loss: 0.0646 - accuracy: 0.9792 - val_loss: 0.0011 - val_accuracy: 0.9796\n",
      "\n",
      "Epoch 00013: val_accuracy did not improve from 0.98087\n",
      "Epoch 14/100\n",
      "2444/2443 [==============================] - 76s 31ms/step - loss: 0.0624 - accuracy: 0.9796 - val_loss: 1.1121e-04 - val_accuracy: 0.9809\n",
      "\n",
      "Epoch 00014: val_accuracy improved from 0.98087 to 0.98094, saving model to Handwritten_OCR.h5\n",
      "Epoch 15/100\n",
      "2444/2443 [==============================] - 73s 30ms/step - loss: 0.0604 - accuracy: 0.9807 - val_loss: 0.0138 - val_accuracy: 0.9816\n",
      "\n",
      "Epoch 00015: val_accuracy improved from 0.98094 to 0.98159, saving model to Handwritten_OCR.h5\n",
      "Epoch 16/100\n",
      "2444/2443 [==============================] - 78s 32ms/step - loss: 0.0561 - accuracy: 0.9824 - val_loss: 0.0282 - val_accuracy: 0.9804\n",
      "\n",
      "Epoch 00016: val_accuracy did not improve from 0.98159\n",
      "Epoch 17/100\n",
      "2444/2443 [==============================] - 78s 32ms/step - loss: 0.0579 - accuracy: 0.9804 - val_loss: 0.0016 - val_accuracy: 0.9817\n",
      "\n",
      "Epoch 00017: val_accuracy improved from 0.98159 to 0.98174, saving model to Handwritten_OCR.h5\n",
      "Epoch 18/100\n",
      "2444/2443 [==============================] - 73s 30ms/step - loss: 0.0536 - accuracy: 0.9824 - val_loss: 0.0035 - val_accuracy: 0.9813\n",
      "\n",
      "Epoch 00018: val_accuracy did not improve from 0.98174\n",
      "Epoch 19/100\n",
      "2444/2443 [==============================] - 70s 29ms/step - loss: 0.0516 - accuracy: 0.9837 - val_loss: 4.3182e-05 - val_accuracy: 0.9807\n",
      "\n",
      "Epoch 00019: val_accuracy did not improve from 0.98174\n",
      "Epoch 20/100\n",
      "2444/2443 [==============================] - 74s 30ms/step - loss: 0.0518 - accuracy: 0.9834 - val_loss: 0.2855 - val_accuracy: 0.9849\n",
      "\n",
      "Epoch 00020: val_accuracy improved from 0.98174 to 0.98493, saving model to Handwritten_OCR.h5\n",
      "Epoch 21/100\n",
      "2444/2443 [==============================] - 72s 30ms/step - loss: 0.0531 - accuracy: 0.9822 - val_loss: 2.0284e-04 - val_accuracy: 0.9830\n",
      "\n",
      "Epoch 00021: val_accuracy did not improve from 0.98493\n",
      "Epoch 22/100\n",
      "2444/2443 [==============================] - 82s 34ms/step - loss: 0.0484 - accuracy: 0.9842 - val_loss: 1.7048 - val_accuracy: 0.9825\n",
      "\n",
      "Epoch 00022: val_accuracy did not improve from 0.98493\n",
      "Epoch 23/100\n",
      "2444/2443 [==============================] - 78s 32ms/step - loss: 0.0474 - accuracy: 0.9846 - val_loss: 0.0012 - val_accuracy: 0.9796\n",
      "\n",
      "Epoch 00023: val_accuracy did not improve from 0.98493\n",
      "Epoch 24/100\n",
      "2444/2443 [==============================] - 75s 31ms/step - loss: 0.0447 - accuracy: 0.9853 - val_loss: 5.5481e-04 - val_accuracy: 0.9812\n",
      "\n",
      "Epoch 00024: val_accuracy did not improve from 0.98493\n",
      "Epoch 25/100\n",
      "2444/2443 [==============================] - 73s 30ms/step - loss: 0.0449 - accuracy: 0.9854 - val_loss: 1.3493e-05 - val_accuracy: 0.9845\n",
      "\n",
      "Epoch 00025: val_accuracy did not improve from 0.98493\n",
      "Epoch 26/100\n",
      "2444/2443 [==============================] - 73s 30ms/step - loss: 0.0468 - accuracy: 0.9846 - val_loss: 0.0011 - val_accuracy: 0.9828\n",
      "\n",
      "Epoch 00026: val_accuracy did not improve from 0.98493\n",
      "Epoch 27/100\n",
      "2444/2443 [==============================] - 77s 31ms/step - loss: 0.0441 - accuracy: 0.9860 - val_loss: 8.6167e-04 - val_accuracy: 0.9821\n",
      "\n",
      "Epoch 00027: val_accuracy did not improve from 0.98493\n",
      "Epoch 28/100\n",
      "2444/2443 [==============================] - 81s 33ms/step - loss: 0.0454 - accuracy: 0.9852 - val_loss: 0.6782 - val_accuracy: 0.9834\n",
      "\n",
      "Epoch 00028: val_accuracy did not improve from 0.98493\n",
      "Epoch 29/100\n",
      "2444/2443 [==============================] - 78s 32ms/step - loss: 0.0409 - accuracy: 0.9866 - val_loss: 3.8171e-04 - val_accuracy: 0.9848\n",
      "\n",
      "Epoch 00029: val_accuracy did not improve from 0.98493\n",
      "Epoch 30/100\n",
      "2444/2443 [==============================] - 80s 33ms/step - loss: 0.0442 - accuracy: 0.9859 - val_loss: 9.1762e-04 - val_accuracy: 0.9816\n",
      "\n",
      "Epoch 00030: val_accuracy did not improve from 0.98493\n",
      "Restoring model weights from the end of the best epoch\n",
      "Epoch 00030: early stopping\n"
     ]
    }
   ],
   "source": [
    "time1 = time.time()\n",
    "history = model.fit_generator(\n",
    "    train_generator, \n",
    "    validation_data=test_generator,\n",
    "    epochs=epochs,\n",
    "    steps_per_epoch=train_dataset_count/batch_size,\n",
    "    verbose=1,\n",
    "    callbacks=callbacks\n",
    "    )\n",
    "time2 = time.time()"
   ]
  },
  {
   "cell_type": "code",
   "execution_count": 12,
   "metadata": {},
   "outputs": [
    {
     "name": "stdout",
     "output_type": "stream",
     "text": [
      "38.01885438362758 mins\n"
     ]
    }
   ],
   "source": [
    "print(f'{(time2 - time1)/60} mins')"
   ]
  },
  {
   "cell_type": "code",
   "execution_count": 15,
   "metadata": {},
   "outputs": [
    {
     "data": {
      "text/plain": [
       "dict_keys(['val_loss', 'val_accuracy', 'loss', 'accuracy'])"
      ]
     },
     "execution_count": 15,
     "metadata": {},
     "output_type": "execute_result"
    }
   ],
   "source": [
    "history.history.keys()"
   ]
  },
  {
   "cell_type": "code",
   "execution_count": 20,
   "metadata": {},
   "outputs": [
    {
     "data": {
      "image/png": "[encoded data removed]",
      "text/plain": [
       "<Figure size 432x288 with 1 Axes>"
      ]
     },
     "metadata": {
      "needs_background": "light"
     },
     "output_type": "display_data"
    },
    {
     "data": {
      "text/plain": [
       "<Figure size 432x288 with 0 Axes>"
      ]
     },
     "metadata": {},
     "output_type": "display_data"
    }
   ],
   "source": [
    "#Accuracy plotting\n",
    "plt.plot(history.history['accuracy'], label='train_acc')\n",
    "plt.plot(history.history['val_accuracy'], label='val_acc')\n",
    "plt.title('model accuracy')\n",
    "plt.ylabel('accuracy')\n",
    "plt.xlabel('epochs')\n",
    "plt.legend()\n",
    "plt.grid()\n",
    "plt.show()\n",
    "plt.savefig('model_acc.png')"
   ]
  },
  {
   "cell_type": "code",
   "execution_count": 21,
   "metadata": {},
   "outputs": [
    {
     "data": {
      "image/png": "[encoded data removed]",
      "text/plain": [
       "<Figure size 432x288 with 1 Axes>"
      ]
     },
     "metadata": {
      "needs_background": "light"
     },
     "output_type": "display_data"
    },
    {
     "data": {
      "text/plain": [
       "<Figure size 432x288 with 0 Axes>"
      ]
     },
     "metadata": {},
     "output_type": "display_data"
    }
   ],
   "source": [
    "#Loss plotting\n",
    "plt.plot(history.history['loss'], label='train_loss')\n",
    "plt.plot(history.history['val_loss'], label='val_loss')\n",
    "plt.title('model loss')\n",
    "plt.ylabel('loss')\n",
    "plt.xlabel('epochs')\n",
    "plt.legend()\n",
    "plt.grid()\n",
    "plt.show()\n",
    "plt.savefig('model_loss.png')"
   ]
  },
  {
   "cell_type": "code",
   "execution_count": null,
   "metadata": {},
   "outputs": [],
   "source": []
  }
 ],
 "metadata": {
  "kernelspec": {
   "display_name": "Python 3",
   "language": "python",
   "name": "python3"
  },
  "language_info": {
   "codemirror_mode": {
    "name": "ipython",
    "version": 3
   },
   "file_extension": ".py",
   "mimetype": "text/x-python",
   "name": "python",
   "nbconvert_exporter": "python",
   "pygments_lexer": "ipython3",
   "version": "3.7.4"
  }
 },
 "nbformat": 4,
 "nbformat_minor": 2
}
